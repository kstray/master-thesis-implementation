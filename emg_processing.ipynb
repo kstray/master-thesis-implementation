{
 "cells": [
  {
   "cell_type": "code",
   "execution_count": 1,
   "metadata": {},
   "outputs": [],
   "source": [
    "import numpy as np\n",
    "import matplotlib.pyplot as plt\n",
    "import sys\n",
    "import time"
   ]
  },
  {
   "cell_type": "code",
   "execution_count": null,
   "metadata": {},
   "outputs": [],
   "source": [
    "import hackeeg\n",
    "from hackeeg import ads1299"
   ]
  },
  {
   "cell_type": "code",
   "execution_count": 53,
   "metadata": {},
   "outputs": [],
   "source": [
    "SERIAL_PORT_PATH = \"/dev/cu.usbmodem143301\"\n",
    "SAMPLES_PER_SECOND = ads1299.HIGH_RES_1k_SPS\n",
    "GAIN = ads1299.GAIN_4X\n",
    "CHANNELS = 8"
   ]
  },
  {
   "cell_type": "code",
   "execution_count": 54,
   "metadata": {},
   "outputs": [
    {
     "data": {
      "text/plain": [
       "{'STATUS_CODE': 200, 'STATUS_TEXT': 'Ok'}"
      ]
     },
     "execution_count": 54,
     "metadata": {},
     "output_type": "execute_result"
    }
   ],
   "source": [
    "# Configure ADS1299\n",
    "hackeeg = hackeeg.HackEEGBoard(serial_port_path=SERIAL_PORT_PATH)\n",
    "hackeeg.connect()\n",
    "hackeeg.blink_board_led()\n",
    "hackeeg.sdatac()\n",
    "hackeeg.reset()\n",
    "hackeeg.disable_all_channels()\n",
    "\n",
    "# Set sampling rate\n",
    "hackeeg.wreg(ads1299.CONFIG1, SAMPLES_PER_SECOND | ads1299.CONFIG1_const)\n",
    "\n",
    "hackeeg.enable_all_channels()\n",
    "for i in range(1, 9):\n",
    "    hackeeg.wreg(ads1299.CHnSET + i, ads1299.ELECTRODE_INPUT | GAIN)\n",
    "\n",
    "# Bipolar mode - each channel is the differential voltage between adjacent electrodes\n",
    "# hackeeg.wreg(ads1299.MISC1, ads1299.MISC1_const)\n",
    "# For unipolar mode, uncomment the following line to set the SRB1 bit,\n",
    "# which sends mid-supply voltage to the N inputs\n",
    "hackeeg.wreg(ads1299.MISC1, ads1299.SRB1 | ads1299.MISC1_const)\n",
    "\n",
    "hackeeg.messagepack_mode()"
   ]
  },
  {
   "cell_type": "code",
   "execution_count": 55,
   "metadata": {},
   "outputs": [
    {
     "name": "stdout",
     "output_type": "stream",
     "text": [
      "Flex!\n",
      "Sampling complete\n"
     ]
    }
   ],
   "source": [
    "# Read data continuously for 5 seconds\n",
    "hackeeg.blink_board_led()\n",
    "hackeeg.start()\n",
    "hackeeg.rdatac()\n",
    "\n",
    "print(\"Flex!\")\n",
    "\n",
    "samples = []\n",
    "t_end = time.time() + 5\n",
    "while time.time() < t_end:\n",
    "    result = hackeeg.read_rdatac_response()\n",
    "    if result:\n",
    "        samples.append(result)\n",
    "    else:\n",
    "        print(\"no data to decode\")\n",
    "        print(f\"result: {result}\")\n",
    "\n",
    "print(\"Sampling complete\")"
   ]
  },
  {
   "cell_type": "code",
   "execution_count": 61,
   "metadata": {},
   "outputs": [
    {
     "name": "stdout",
     "output_type": "stream",
     "text": [
      "[[25896701. 25897417. 25898418. ... 30843719. 30844717. 30845716.]\n",
      " [-7558697. -7522982. -7479063. ... -7568386. -7510829. -7424884.]\n",
      " [-8388608. -8160236. -7804299. ... -7823787. -7379592. -6767705.]\n",
      " ...\n",
      " [-8388608. -8388608. -8121372. ... -8074070. -7593151. -6932449.]\n",
      " [-8337961. -8052972. -7733331. ... -7720677. -7316434. -6758702.]\n",
      " [-7534296. -7455745. -7365289. ... -7429088. -7310214. -7141621.]]\n",
      "[[-2.25266725 -2.24202335 -2.22893447 ... -2.2555548  -2.23840147\n",
      "  -2.21278787]\n",
      " [-2.5        -2.43193984 -2.32586235 ... -2.33167022 -2.1992898\n",
      "  -2.01693326]\n",
      " [-2.5        -2.42760837 -2.3180297  ... -2.3053962  -2.16355145\n",
      "  -1.96855575]\n",
      " ...\n",
      " [-2.5        -2.5        -2.42035747 ... -2.40626037 -2.26293534\n",
      "  -2.0660308 ]\n",
      " [-2.48490602 -2.39997268 -2.30471224 ... -2.30094105 -2.18046725\n",
      "  -2.01425016]\n",
      " [-2.24539518 -2.22198516 -2.19502717 ... -2.21404076 -2.17861354\n",
      "  -2.12836891]]\n"
     ]
    }
   ],
   "source": [
    "# Process samples\n",
    "\n",
    "channel_data = np.empty((9, len(samples)))\n",
    "for i, s in enumerate(samples):\n",
    "    dataKey = s.get(hackeeg.MpDataKey)\n",
    "    if dataKey:\n",
    "        timestamp = s.get('timestamp')\n",
    "        data = s.get('channel_data')\n",
    "        channel_data[0, i] = timestamp\n",
    "        for channel in range(1,9):\n",
    "            channel_data[channel, i] = data[channel-1]\n",
    "\n",
    "print(channel_data)\n",
    "channel_data = channel_data.astype(np.float64)\n",
    "np.save('channel_data', channel_data)\n",
    "\n",
    "# Sampled in bipolar mode; -2.5V - +2.5V\n",
    "# 24-bit resolution ADC\n",
    "# analog voltage measured = (ADC reading * system voltage) / resolution\n",
    "analog_voltage = (channel_data[1:] * 2.5) / (2**23)\n",
    "print(analog_voltage)"
   ]
  },
  {
   "cell_type": "code",
   "execution_count": 2,
   "metadata": {},
   "outputs": [],
   "source": [
    "data = np.load('channel_data.npy')\n",
    "analog_voltage = (data[1:] * 2.5) / (2**23)\n",
    "timestamps = data[0]"
   ]
  },
  {
   "cell_type": "code",
   "execution_count": 3,
   "metadata": {},
   "outputs": [
    {
     "data": {
      "text/plain": [
       "[<matplotlib.lines.Line2D at 0x1db2dee8970>]"
      ]
     },
     "execution_count": 3,
     "metadata": {},
     "output_type": "execute_result"
    },
    {
     "data": {
      "image/png": "[encoded data removed]",
      "text/plain": [
       "<Figure size 432x288 with 1 Axes>"
      ]
     },
     "metadata": {
      "needs_background": "light"
     },
     "output_type": "display_data"
    }
   ],
   "source": [
    "import scipy\n",
    "from scipy import fftpack\n",
    "sampling_rate = 1000\n",
    "\n",
    "N = len(analog_voltage[0])\n",
    "T = 1 / sampling_rate\n",
    "x = np.linspace(0.0, 1.0/(2.0*T), N//2)\n",
    "y = analog_voltage[3]                       # Channel 4\n",
    "\n",
    "y_fft = scipy.fftpack.fft(y - y.mean())\n",
    "\n",
    "plt.plot(x, 2.0/N * np.abs(y_fft[:N//2]))\n",
    "\n"
   ]
  },
  {
   "cell_type": "code",
   "execution_count": null,
   "metadata": {},
   "outputs": [],
   "source": []
  }
 ],
 "metadata": {
  "interpreter": {
   "hash": "e30a42bd89d8f6ee33373d8a37b59aff15e9fb2bcc9e9326bb3be49e65ed448a"
  },
  "kernelspec": {
   "display_name": "Python 3.9.13 64-bit (windows store)",
   "language": "python",
   "name": "python3"
  },
  "language_info": {
   "codemirror_mode": {
    "name": "ipython",
    "version": 3
   },
   "file_extension": ".py",
   "mimetype": "text/x-python",
   "name": "python",
   "nbconvert_exporter": "python",
   "pygments_lexer": "ipython3",
   "version": "3.9.13"
  },
  "orig_nbformat": 4
 },
 "nbformat": 4,
 "nbformat_minor": 2
}
