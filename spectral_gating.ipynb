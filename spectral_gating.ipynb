{
 "cells": [
  {
   "cell_type": "code",
   "execution_count": null,
   "metadata": {},
   "outputs": [],
   "source": [
    "# # Remove 50Hz harmonics from spectrum and transform back to time domain\n",
    "# psd = y_notched_fft * np.conj(y_notched_fft)/N_notched\n",
    "\n",
    "# fig = plt.figure(figsize=(15,5))\n",
    "# plt.subplot(1, 2, 1)\n",
    "# plt.plot(x_notched, 2.0/N_notched * np.abs(y_notched_fft[:N_notched//2]))\n",
    "# plt.xlim(-20, 400)\n",
    "# plt.title('FFT after notch filtering')\n",
    "# plt.ylim(-1e-7, 1e-5)\n",
    "# plt.xlabel('Frequency [Hz]')\n",
    "# plt.subplot(1, 2, 2)\n",
    "# plt.plot(x_notched, 2.0/N_notched * np.abs(psd[:N_notched//2]))\n",
    "# plt.xlim(-20, 400)\n",
    "# plt.ylim(-1e-7, 1e-5)\n",
    "# plt.title('PSD after notch filtering')\n",
    "# plt.xlabel('Frequency [Hz]')\n",
    "\n",
    "# threshold = 1e-10\n",
    "# psd_idxs = psd < threshold\n",
    "# psd_clean = psd * psd_idxs\n",
    "# y_fft_clean = psd_idxs * y_notched_fft\n",
    "# y_clean = scipy.fftpack.ifft(y_fft_clean)\n",
    "\n",
    "# N_clean = len(y_clean)\n",
    "# x_clean = np.linspace(0.0, 1.0/(2.0*T), N_clean//2)\n",
    "\n",
    "# y_fft_clean = 2.0/N_clean * np.abs(y_fft_clean[:N_clean//2])\n",
    "# y_clean = y_clean[1000:-1000]\n",
    "# fig = plt.figure(figsize=(15,5))\n",
    "# plt.subplot(1, 2, 1)\n",
    "# plt.plot(y_clean*1000)\n",
    "# # plt.xlim(25900,26400)\n",
    "# plt.title('EMG signal, 50Hz harmonics reduced')\n",
    "# plt.ylabel('[mV]')\n",
    "# plt.xlabel('Samples')\n",
    "# plt.subplot(1, 2, 2)\n",
    "# plt.plot(x_clean, y_fft_clean)\n",
    "# plt.xlim(-20, 400)\n",
    "# plt.ylim(-1e-8, 1e-6)\n",
    "# plt.title('FFT of signal')\n",
    "# plt.xlabel('Frequency [Hz]')"
   ]
  }
 ],
 "metadata": {
  "language_info": {
   "name": "python"
  },
  "orig_nbformat": 4
 },
 "nbformat": 4,
 "nbformat_minor": 2
}
